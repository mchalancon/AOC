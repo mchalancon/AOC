{
 "cells": [
  {
   "cell_type": "code",
   "execution_count": 1,
   "metadata": {},
   "outputs": [],
   "source": [
    "import pandas as pd"
   ]
  },
  {
   "cell_type": "markdown",
   "metadata": {},
   "source": [
    "# Day 1"
   ]
  },
  {
   "cell_type": "code",
   "execution_count": 135,
   "metadata": {},
   "outputs": [],
   "source": [
    "df_example = pd.read_csv('day1/input1_example.txt',header=None, names=[\"SonarSweep\"])\n",
    "df = pd.read_csv('day1/input1.txt',header=None, names=[\"SonarSweep\"])"
   ]
  },
  {
   "cell_type": "code",
   "execution_count": 136,
   "metadata": {},
   "outputs": [],
   "source": [
    "def LambdaIncrease(df, ColName, row):\n",
    "    if(row.name > 0):\n",
    "        if df.iloc[row.name -1][ColName] < row[ColName]:\n",
    "            return True\n",
    "    \n",
    "    return False\n",
    "\n",
    "def CountIncrease (df,ColName):\n",
    "    df[\"increase\"] = df.apply(lambda x:LambdaIncrease(df,ColName, x),axis=1)\n",
    "    return len(df[df['increase'] == True].index)"
   ]
  },
  {
   "cell_type": "code",
   "execution_count": 137,
   "metadata": {},
   "outputs": [
    {
     "name": "stdout",
     "output_type": "stream",
     "text": [
      "Example Step 1: 7\n",
      "Step 1 : 1374\n"
     ]
    }
   ],
   "source": [
    "print('Example Step 1: ' + str(CountIncrease(df_example,'SonarSweep')))\n",
    "print('Step 1 : '+ str(CountIncrease(df,'SonarSweep')))"
   ]
  },
  {
   "cell_type": "code",
   "execution_count": 138,
   "metadata": {},
   "outputs": [],
   "source": [
    "def LambdaSum(df,row):\n",
    "    if((row.name + 2) in df.index):\n",
    "        return df[(df.index >= (row.name)) & (df.index <= (row.name + 2))][\"SonarSweep\"].sum()\n",
    "    \n",
    "def CountIncreasSum(df):\n",
    "    df['Sum'] = df.apply(lambda x:LambdaSum(df, x),axis=1)\n",
    "    return CountIncrease(df,'Sum')    "
   ]
  },
  {
   "cell_type": "code",
   "execution_count": 139,
   "metadata": {},
   "outputs": [
    {
     "name": "stdout",
     "output_type": "stream",
     "text": [
      "Example Step 2: 5\n",
      "Step 2 : 1418\n"
     ]
    }
   ],
   "source": [
    "print('Example Step 2: ' + str(CountIncreasSum(df_example)))\n",
    "print('Step 2 : '+ str(CountIncreasSum(df)))"
   ]
  },
  {
   "cell_type": "markdown",
   "metadata": {},
   "source": [
    "# Day 2"
   ]
  },
  {
   "cell_type": "code",
   "execution_count": 161,
   "metadata": {},
   "outputs": [],
   "source": [
    "df_example = pd.read_csv('day2/input1_example.txt',header=None,sep=\" \", names=[\"Moove\",\"Value\"])\n",
    "df = pd.read_csv('day2/input1.txt',header=None,sep=\" \", names=[\"Moove\",\"Value\"])\n"
   ]
  },
  {
   "cell_type": "code",
   "execution_count": 162,
   "metadata": {},
   "outputs": [],
   "source": [
    "def CalculPositionAndDepth(df):\n",
    "    HorizontalPosition = df[(df['Moove'] == 'forward')]['Value'].sum()\n",
    "    depth =  df[(df['Moove'] == 'down')]['Value'].sum() - df[(df['Moove'] == 'up')]['Value'].sum()\n",
    "    return HorizontalPosition * depth\n"
   ]
  },
  {
   "cell_type": "code",
   "execution_count": 163,
   "metadata": {},
   "outputs": [
    {
     "name": "stdout",
     "output_type": "stream",
     "text": [
      "Example Step 1 : 150\n",
      "Step 1 : 2019945\n"
     ]
    }
   ],
   "source": [
    "print('Example Step 1 : ' + str(CalculPositionAndDepth(df_example)))\n",
    "print('Step 1 : ' + str(CalculPositionAndDepth(df)))"
   ]
  },
  {
   "cell_type": "code",
   "execution_count": 164,
   "metadata": {},
   "outputs": [
    {
     "data": {
      "text/html": [
       "<div>\n",
       "<style scoped>\n",
       "    .dataframe tbody tr th:only-of-type {\n",
       "        vertical-align: middle;\n",
       "    }\n",
       "\n",
       "    .dataframe tbody tr th {\n",
       "        vertical-align: top;\n",
       "    }\n",
       "\n",
       "    .dataframe thead th {\n",
       "        text-align: right;\n",
       "    }\n",
       "</style>\n",
       "<table border=\"1\" class=\"dataframe\">\n",
       "  <thead>\n",
       "    <tr style=\"text-align: right;\">\n",
       "      <th></th>\n",
       "      <th>Moove</th>\n",
       "      <th>Value</th>\n",
       "      <th>aim</th>\n",
       "    </tr>\n",
       "  </thead>\n",
       "  <tbody>\n",
       "    <tr>\n",
       "      <th>0</th>\n",
       "      <td>forward</td>\n",
       "      <td>5</td>\n",
       "      <td>0</td>\n",
       "    </tr>\n",
       "    <tr>\n",
       "      <th>1</th>\n",
       "      <td>down</td>\n",
       "      <td>5</td>\n",
       "      <td>5</td>\n",
       "    </tr>\n",
       "    <tr>\n",
       "      <th>2</th>\n",
       "      <td>forward</td>\n",
       "      <td>8</td>\n",
       "      <td>5</td>\n",
       "    </tr>\n",
       "    <tr>\n",
       "      <th>3</th>\n",
       "      <td>up</td>\n",
       "      <td>3</td>\n",
       "      <td>2</td>\n",
       "    </tr>\n",
       "    <tr>\n",
       "      <th>4</th>\n",
       "      <td>down</td>\n",
       "      <td>8</td>\n",
       "      <td>10</td>\n",
       "    </tr>\n",
       "    <tr>\n",
       "      <th>5</th>\n",
       "      <td>forward</td>\n",
       "      <td>2</td>\n",
       "      <td>10</td>\n",
       "    </tr>\n",
       "  </tbody>\n",
       "</table>\n",
       "</div>"
      ],
      "text/plain": [
       "     Moove  Value  aim\n",
       "0  forward      5    0\n",
       "1     down      5    5\n",
       "2  forward      8    5\n",
       "3       up      3    2\n",
       "4     down      8   10\n",
       "5  forward      2   10"
      ]
     },
     "execution_count": 164,
     "metadata": {},
     "output_type": "execute_result"
    }
   ],
   "source": [
    "#Je calcule la valeur de aim en prenant en comptant toutes les Value précédentes de la ligne courante\n",
    "#Je filtre sur le Moove 'down' ou 'up'\n",
    "def LambdaAim(df,row):\n",
    "     return df[(df.index <= row.name) & (df['Moove'] == 'down')]['Value'].sum() - df[(df.index <= row.name) & (df['Moove'] == 'up')]['Value'].sum()\n",
    "\n"
   ]
  },
  {
   "cell_type": "code",
   "execution_count": 178,
   "metadata": {},
   "outputs": [],
   "source": [
    "def CalculPositionAndDepthWithAim(df):\n",
    "    \n",
    "    df['aim'] = df.apply(lambda x:LambdaAim(df,x),axis=1)\n",
    "\n",
    "    HorizontalPosition = df[(df['Moove'] == 'forward')]['Value'].sum()\n",
    "    depth =  df[(df['Moove'] == 'down')]['Value'].sum() - df[(df['Moove'] == 'up')]['Value'].sum()\n",
    "    #Je calcul la valeur de 'depth' a partir de la colonne 'aim'\n",
    "    depth = (df[(df['Moove'] == 'forward')]['aim'] * df[(df['Moove'] == 'forward')]['Value']).sum()\n",
    "    \n",
    "    return HorizontalPosition * (depth)"
   ]
  },
  {
   "cell_type": "code",
   "execution_count": 180,
   "metadata": {},
   "outputs": [
    {
     "name": "stdout",
     "output_type": "stream",
     "text": [
      "Example Step 2 : 900\n",
      "Step 2 : 1599311480\n"
     ]
    }
   ],
   "source": [
    "print('Example Step 2 : ' + str(CalculPositionAndDepthWithAim(df_example)))\n",
    "print('Step 2 : ' + str(CalculPositionAndDepthWithAim(df)))"
   ]
  },
  {
   "cell_type": "markdown",
   "metadata": {},
   "source": [
    "# Day 3"
   ]
  },
  {
   "cell_type": "code",
   "execution_count": 274,
   "metadata": {},
   "outputs": [],
   "source": [
    "df_example = pd.read_csv('day3/input1_example.txt',header=None,names=['Col'], dtype=str)\n",
    "df = pd.read_csv('day3/input1.txt',header=None,names=['Col'], dtype=str)\n"
   ]
  },
  {
   "cell_type": "code",
   "execution_count": 272,
   "metadata": {},
   "outputs": [
    {
     "data": {
      "text/html": [
       "<div>\n",
       "<style scoped>\n",
       "    .dataframe tbody tr th:only-of-type {\n",
       "        vertical-align: middle;\n",
       "    }\n",
       "\n",
       "    .dataframe tbody tr th {\n",
       "        vertical-align: top;\n",
       "    }\n",
       "\n",
       "    .dataframe thead th {\n",
       "        text-align: right;\n",
       "    }\n",
       "</style>\n",
       "<table border=\"1\" class=\"dataframe\">\n",
       "  <thead>\n",
       "    <tr style=\"text-align: right;\">\n",
       "      <th></th>\n",
       "      <th>0</th>\n",
       "      <th>1</th>\n",
       "      <th>2</th>\n",
       "      <th>3</th>\n",
       "      <th>4</th>\n",
       "      <th>5</th>\n",
       "      <th>6</th>\n",
       "      <th>7</th>\n",
       "      <th>8</th>\n",
       "      <th>9</th>\n",
       "      <th>10</th>\n",
       "      <th>11</th>\n",
       "    </tr>\n",
       "  </thead>\n",
       "  <tbody>\n",
       "    <tr>\n",
       "      <th>0</th>\n",
       "      <td>0</td>\n",
       "      <td>1</td>\n",
       "      <td>1</td>\n",
       "      <td>1</td>\n",
       "      <td>0</td>\n",
       "      <td>1</td>\n",
       "      <td>1</td>\n",
       "      <td>0</td>\n",
       "      <td>1</td>\n",
       "      <td>1</td>\n",
       "      <td>1</td>\n",
       "      <td>0</td>\n",
       "    </tr>\n",
       "    <tr>\n",
       "      <th>1</th>\n",
       "      <td>0</td>\n",
       "      <td>1</td>\n",
       "      <td>0</td>\n",
       "      <td>1</td>\n",
       "      <td>1</td>\n",
       "      <td>0</td>\n",
       "      <td>0</td>\n",
       "      <td>0</td>\n",
       "      <td>1</td>\n",
       "      <td>1</td>\n",
       "      <td>0</td>\n",
       "      <td>1</td>\n",
       "    </tr>\n",
       "    <tr>\n",
       "      <th>2</th>\n",
       "      <td>1</td>\n",
       "      <td>0</td>\n",
       "      <td>0</td>\n",
       "      <td>1</td>\n",
       "      <td>1</td>\n",
       "      <td>1</td>\n",
       "      <td>0</td>\n",
       "      <td>0</td>\n",
       "      <td>0</td>\n",
       "      <td>1</td>\n",
       "      <td>1</td>\n",
       "      <td>0</td>\n",
       "    </tr>\n",
       "    <tr>\n",
       "      <th>3</th>\n",
       "      <td>0</td>\n",
       "      <td>1</td>\n",
       "      <td>1</td>\n",
       "      <td>1</td>\n",
       "      <td>1</td>\n",
       "      <td>0</td>\n",
       "      <td>1</td>\n",
       "      <td>0</td>\n",
       "      <td>1</td>\n",
       "      <td>0</td>\n",
       "      <td>0</td>\n",
       "      <td>0</td>\n",
       "    </tr>\n",
       "    <tr>\n",
       "      <th>4</th>\n",
       "      <td>1</td>\n",
       "      <td>0</td>\n",
       "      <td>1</td>\n",
       "      <td>1</td>\n",
       "      <td>0</td>\n",
       "      <td>1</td>\n",
       "      <td>0</td>\n",
       "      <td>0</td>\n",
       "      <td>0</td>\n",
       "      <td>1</td>\n",
       "      <td>0</td>\n",
       "      <td>0</td>\n",
       "    </tr>\n",
       "    <tr>\n",
       "      <th>...</th>\n",
       "      <td>...</td>\n",
       "      <td>...</td>\n",
       "      <td>...</td>\n",
       "      <td>...</td>\n",
       "      <td>...</td>\n",
       "      <td>...</td>\n",
       "      <td>...</td>\n",
       "      <td>...</td>\n",
       "      <td>...</td>\n",
       "      <td>...</td>\n",
       "      <td>...</td>\n",
       "      <td>...</td>\n",
       "    </tr>\n",
       "    <tr>\n",
       "      <th>995</th>\n",
       "      <td>0</td>\n",
       "      <td>0</td>\n",
       "      <td>1</td>\n",
       "      <td>1</td>\n",
       "      <td>0</td>\n",
       "      <td>0</td>\n",
       "      <td>0</td>\n",
       "      <td>1</td>\n",
       "      <td>0</td>\n",
       "      <td>1</td>\n",
       "      <td>1</td>\n",
       "      <td>1</td>\n",
       "    </tr>\n",
       "    <tr>\n",
       "      <th>996</th>\n",
       "      <td>0</td>\n",
       "      <td>0</td>\n",
       "      <td>0</td>\n",
       "      <td>0</td>\n",
       "      <td>1</td>\n",
       "      <td>0</td>\n",
       "      <td>0</td>\n",
       "      <td>0</td>\n",
       "      <td>1</td>\n",
       "      <td>1</td>\n",
       "      <td>1</td>\n",
       "      <td>0</td>\n",
       "    </tr>\n",
       "    <tr>\n",
       "      <th>997</th>\n",
       "      <td>0</td>\n",
       "      <td>1</td>\n",
       "      <td>1</td>\n",
       "      <td>0</td>\n",
       "      <td>0</td>\n",
       "      <td>1</td>\n",
       "      <td>0</td>\n",
       "      <td>0</td>\n",
       "      <td>1</td>\n",
       "      <td>1</td>\n",
       "      <td>1</td>\n",
       "      <td>0</td>\n",
       "    </tr>\n",
       "    <tr>\n",
       "      <th>998</th>\n",
       "      <td>1</td>\n",
       "      <td>1</td>\n",
       "      <td>1</td>\n",
       "      <td>1</td>\n",
       "      <td>0</td>\n",
       "      <td>1</td>\n",
       "      <td>1</td>\n",
       "      <td>0</td>\n",
       "      <td>1</td>\n",
       "      <td>0</td>\n",
       "      <td>0</td>\n",
       "      <td>1</td>\n",
       "    </tr>\n",
       "    <tr>\n",
       "      <th>999</th>\n",
       "      <td>0</td>\n",
       "      <td>0</td>\n",
       "      <td>1</td>\n",
       "      <td>0</td>\n",
       "      <td>0</td>\n",
       "      <td>0</td>\n",
       "      <td>0</td>\n",
       "      <td>1</td>\n",
       "      <td>1</td>\n",
       "      <td>0</td>\n",
       "      <td>0</td>\n",
       "      <td>0</td>\n",
       "    </tr>\n",
       "  </tbody>\n",
       "</table>\n",
       "<p>1000 rows × 12 columns</p>\n",
       "</div>"
      ],
      "text/plain": [
       "     0  1  2  3  4  5  6  7  8  9 10 11\n",
       "0    0  1  1  1  0  1  1  0  1  1  1  0\n",
       "1    0  1  0  1  1  0  0  0  1  1  0  1\n",
       "2    1  0  0  1  1  1  0  0  0  1  1  0\n",
       "3    0  1  1  1  1  0  1  0  1  0  0  0\n",
       "4    1  0  1  1  0  1  0  0  0  1  0  0\n",
       "..  .. .. .. .. .. .. .. .. .. .. .. ..\n",
       "995  0  0  1  1  0  0  0  1  0  1  1  1\n",
       "996  0  0  0  0  1  0  0  0  1  1  1  0\n",
       "997  0  1  1  0  0  1  0  0  1  1  1  0\n",
       "998  1  1  1  1  0  1  1  0  1  0  0  1\n",
       "999  0  0  1  0  0  0  0  1  1  0  0  0\n",
       "\n",
       "[1000 rows x 12 columns]"
      ]
     },
     "execution_count": 272,
     "metadata": {},
     "output_type": "execute_result"
    }
   ],
   "source": []
  },
  {
   "cell_type": "code",
   "execution_count": 276,
   "metadata": {},
   "outputs": [],
   "source": [
    "def CalculGammaAndEpsilon(df):\n",
    "    \n",
    "    dfResult = df['Col'].apply(lambda x: pd.Series(list(str(x))))\n",
    "    BinaryGammaRate = ''\n",
    "    BinaryEpsilon = ''\n",
    "    for i in range(len(dfResult.columns)):\n",
    "        BinaryGammaRate += str(dfResult[i].value_counts().idxmax())\n",
    "        BinaryEpsilon += str(dfResult[i].value_counts().idxmin())\n",
    "    \n",
    "    return (BinaryGammaRate,BinaryEpsilon)"
   ]
  },
  {
   "cell_type": "code",
   "execution_count": 278,
   "metadata": {},
   "outputs": [
    {
     "name": "stdout",
     "output_type": "stream",
     "text": [
      "Example Step 1  : 198\n",
      "Step 1  : 4147524\n"
     ]
    }
   ],
   "source": [
    "BinaryGamma, BinaryEpsilon = CalculGammaAndEpsilon(df_example)\n",
    "print('Example Step 1  : ' + str(int(BinaryGamma, 2) * int(BinaryEpsilon, 2)))\n",
    "\n",
    "BinaryGamma, BinaryEpsilon = CalculGammaAndEpsilon(df)\n",
    "print('Step 1  : ' + str(int(BinaryGamma, 2) * int(BinaryEpsilon, 2)))"
   ]
  }
 ],
 "metadata": {
  "kernelspec": {
   "display_name": "Python 3",
   "language": "python",
   "name": "python3"
  },
  "language_info": {
   "codemirror_mode": {
    "name": "ipython",
    "version": 3
   },
   "file_extension": ".py",
   "mimetype": "text/x-python",
   "name": "python",
   "nbconvert_exporter": "python",
   "pygments_lexer": "ipython3",
   "version": "3.7.3"
  }
 },
 "nbformat": 4,
 "nbformat_minor": 2
}
